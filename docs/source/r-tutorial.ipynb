{
 "cells": [
  {
   "cell_type": "markdown",
   "id": "a429a691",
   "metadata": {},
   "source": [
    "# Tutorial for R users"
   ]
  },
  {
   "cell_type": "markdown",
   "id": "64173670",
   "metadata": {},
   "source": [
    "In this tutorial we will enrich Acropora digitifera observations with bathymetry information.\n",
    "Please make sure you already followed the [installation instructions](https://geoenrich.readthedocs.io/en/latest/r-install.html).\n",
    "\n",
    "We will first load the occurence file and create an *enrichment file*. As we download environment data, necessary metadata will be saved into that file.\n",
    "\n",
    "Afterwards, we will pick a variable id from the [catalog](https://geoenrich.readthedocs.io/en/latest/variables.html), and start downloading bathymetry data.\n",
    "\n",
    "Finally, we will visualize the result for one of the occurrences."
   ]
  },
  {
   "cell_type": "code",
   "execution_count": 1,
   "id": "23174061",
   "metadata": {},
   "outputs": [],
   "source": [
    "library(reticulate)"
   ]
  },
  {
   "cell_type": "markdown",
   "id": "66dad4fc",
   "metadata": {},
   "source": [
    "## Load your occurrence data"
   ]
  },
  {
   "cell_type": "code",
   "execution_count": 2,
   "id": "37a0c229",
   "metadata": {},
   "outputs": [],
   "source": [
    "os <- import(\"os\")\n",
    "dataloader <- import(\"geoenrich.dataloader\", convert=FALSE)\n",
    "enrichment <- import(\"geoenrich.enrichment\", convert=FALSE)"
   ]
  },
  {
   "cell_type": "markdown",
   "id": "2715c829",
   "metadata": {},
   "source": [
    "#### If you are using your own dataset (DarwinCore format)"
   ]
  },
  {
   "cell_type": "markdown",
   "id": "82746ad9",
   "metadata": {},
   "source": [
    "A DarwinCore archive is bundled into the package for user testing (GBIF Occurrence Download [10.15468/dl.megb8n](https://doi.org/10.15468/dl.megb8n)).\n",
    "\n",
    "If you don't have a dataset and you don't want to register to GBIF yet you can use this one."
   ]
  },
  {
   "cell_type": "code",
   "execution_count": 3,
   "id": "e91c6b72",
   "metadata": {},
   "outputs": [],
   "source": [
    "example_path <- paste( os$path$split(dataloader$'__file__')[[1]],\n",
    "                      '/data/AcDigitifera.zip', sep = '')\n",
    "geodf <- dataloader$open_dwca(path = example_path)"
   ]
  },
  {
   "cell_type": "markdown",
   "id": "cd09f793",
   "metadata": {},
   "source": [
    "#### If you are using your own dataset (csv format)"
   ]
  },
  {
   "cell_type": "markdown",
   "id": "b7006bde",
   "metadata": {},
   "source": [
    "Fill in the path to your csv and the compulsory column names.\n",
    "\n",
    "Additional arguments are passed down to pandas.read_csv"
   ]
  },
  {
   "cell_type": "code",
   "execution_count": null,
   "id": "7b785be9",
   "metadata": {},
   "outputs": [],
   "source": [
    "geodf <- dataloader$import_occurrences_csv(path = '', id_col = '', date_col = '', lat_col = '',\n",
    "                           lon_col = '', depth_col = '')"
   ]
  },
  {
   "cell_type": "markdown",
   "id": "95f2a914",
   "metadata": {},
   "source": [
    "#### If you do not have occurrences but want to enrich arbitrary areas"
   ]
  },
  {
   "cell_type": "markdown",
   "id": "9fb50510",
   "metadata": {},
   "source": [
    "See [documentation](https://geoenrich.readthedocs.io/en/latest/dataloader.html#geoenrich.dataloader.load_areas_file) for information about input file format."
   ]
  },
  {
   "cell_type": "code",
   "execution_count": 4,
   "id": "5aca1a7f",
   "metadata": {},
   "outputs": [],
   "source": [
    "example_path <- paste( os$path$split(dataloader$'__file__')[[1]] ,\n",
    "                      '/data/areas.csv', sep = '')\n",
    "df <- dataloader$load_areas_file(example_path)"
   ]
  },
  {
   "cell_type": "markdown",
   "id": "5e06ea36",
   "metadata": {},
   "source": [
    "#### Create enrichment file"
   ]
  },
  {
   "cell_type": "code",
   "execution_count": 5,
   "id": "b5a0d4b1",
   "metadata": {},
   "outputs": [
    {
     "data": {
      "text/plain": [
       "None"
      ]
     },
     "metadata": {},
     "output_type": "display_data"
    }
   ],
   "source": [
    "# For occurrences\n",
    "dataset_ref_occ <- 'ac_digitifera'\n",
    "enrichment$create_enrichment_file(geodf, dataset_ref_occ)"
   ]
  },
  {
   "cell_type": "code",
   "execution_count": null,
   "id": "ba512879",
   "metadata": {},
   "outputs": [],
   "source": [
    "# For areas\n",
    "dataset_ref_areas <- 'arbitrary_areas'\n",
    "enrichment$create_enrichment_file(df, dataset_ref_areas)"
   ]
  },
  {
   "cell_type": "markdown",
   "id": "c489fbfc",
   "metadata": {},
   "source": [
    "## Enrich"
   ]
  },
  {
   "cell_type": "markdown",
   "id": "d57131f0",
   "metadata": {},
   "source": [
    "#### Define enrichment scope"
   ]
  },
  {
   "cell_type": "markdown",
   "id": "94861222",
   "metadata": {},
   "source": [
    "We use the dataset reference that was used to create the enrichment file.\n",
    "\n",
    "geo_buff is the buffer around the occurences (in kilometers).\n",
    "\n",
    "time_buff specifies a temporal buffer. In this case we download data from 7 days before the occurrence date, to the occurrence date. time_buff is only used for variables that have a time dimension"
   ]
  },
  {
   "cell_type": "code",
   "execution_count": 6,
   "id": "f058adfe",
   "metadata": {},
   "outputs": [],
   "source": [
    "var_id <- 'bathymetry'\n",
    "dataset_ref_occ <- 'ac_digitifera'\n",
    "geo_buff <- 115\n",
    "time_buff <- c(-7L, 0L)"
   ]
  },
  {
   "cell_type": "markdown",
   "id": "a166d0b7",
   "metadata": {},
   "source": [
    "#### Only enrich a small slice first to check speed."
   ]
  },
  {
   "cell_type": "code",
   "execution_count": 7,
   "id": "e2359a32",
   "metadata": {},
   "outputs": [
    {
     "data": {
      "text/plain": [
       "None"
      ]
     },
     "metadata": {},
     "output_type": "display_data"
    }
   ],
   "source": [
    "enrichment$enrich(dataset_ref_occ, var_id, geo_buff,\n",
    "                  time_buff, slice = c(0L,100L))"
   ]
  },
  {
   "cell_type": "markdown",
   "id": "e9f992fd",
   "metadata": {},
   "source": [
    "#### For large areas, use downsample argument to download only part of available data (to reduce download time)"
   ]
  },
  {
   "cell_type": "code",
   "execution_count": null,
   "id": "d8db7498",
   "metadata": {},
   "outputs": [],
   "source": [
    "# Skip 9 latitude and longitude points for every downloaded point.\n",
    "dataset_ref_areas <- 'arbitrary_areas'\n",
    "downsample <- list('latitude'= 9L, 'longitude'= 9L)\n",
    "\n",
    "enrichment$enrich(dataset_ref_areas, var_id, downsample = downsample)"
   ]
  },
  {
   "cell_type": "markdown",
   "id": "d698b3dc",
   "metadata": {},
   "source": [
    "## Data retrieval"
   ]
  },
  {
   "cell_type": "code",
   "execution_count": 8,
   "id": "3f626820",
   "metadata": {},
   "outputs": [],
   "source": [
    "exports <- import(\"geoenrich.exports\")\n",
    "enrichment <- import(\"geoenrich.enrichment\", convert = FALSE)\n",
    "dataset_ref <- 'ac_digitifera'\n",
    "var_id <- 'bathymetry'"
   ]
  },
  {
   "cell_type": "markdown",
   "id": "0aed2cac",
   "metadata": {},
   "source": [
    "#### Check the enrichment status of the dataset."
   ]
  },
  {
   "cell_type": "code",
   "execution_count": null,
   "id": "830ac2d7",
   "metadata": {},
   "outputs": [],
   "source": [
    "enrichment$enrichment_status(dataset_ref)"
   ]
  },
  {
   "cell_type": "markdown",
   "id": "8dde65ef",
   "metadata": {},
   "source": [
    "#### Export summary statistics to a csv file"
   ]
  },
  {
   "cell_type": "code",
   "execution_count": 9,
   "id": "dd23e2fe",
   "metadata": {},
   "outputs": [],
   "source": [
    "exports$produce_stats(dataset_ref, var_id, out_path = './')"
   ]
  },
  {
   "cell_type": "markdown",
   "id": "288623e8",
   "metadata": {},
   "source": [
    "#### Export data as a png file for the first occurrence of the dataset"
   ]
  },
  {
   "cell_type": "code",
   "execution_count": 10,
   "id": "8efe9b8d",
   "metadata": {},
   "outputs": [],
   "source": [
    "ids <- enrichment$read_ids(dataset_ref)\n",
    "occ_id <- ids[[1]]"
   ]
  },
  {
   "cell_type": "code",
   "execution_count": 11,
   "id": "27432445",
   "metadata": {},
   "outputs": [],
   "source": [
    "exports$export_png(dataset_ref, occ_id, var_id, path = '')"
   ]
  },
  {
   "cell_type": "markdown",
   "id": "c1daa34d",
   "metadata": {},
   "source": [
    "#### Retrieve the raw data and plot it"
   ]
  },
  {
   "cell_type": "markdown",
   "id": "3d229da7",
   "metadata": {},
   "source": [
    "Required libraries: ggplot2, reshape2, wellknown, pals"
   ]
  },
  {
   "cell_type": "code",
   "execution_count": 12,
   "id": "4757f325",
   "metadata": {},
   "outputs": [
    {
     "name": "stderr",
     "output_type": "stream",
     "text": [
      "\n",
      "Attaching package: ‘wellknown’\n",
      "\n",
      "\n",
      "The following object is masked from ‘package:graphics’:\n",
      "\n",
      "    polygon\n",
      "\n",
      "\n"
     ]
    }
   ],
   "source": [
    "library(ggplot2)\n",
    "library(reshape2)\n",
    "library(wellknown)\n",
    "library(pals)"
   ]
  },
  {
   "cell_type": "code",
   "execution_count": 13,
   "id": "c7320459",
   "metadata": {},
   "outputs": [],
   "source": [
    "output <- exports$retrieve_data(dataset_ref, occ_id, var_id, shape = 'buffer')\n",
    "\n",
    "data <- output$values\n",
    "unit <- output$unit\n",
    "coords <- output$coords\n",
    "\n",
    "# Retrieve coordinates\n",
    "for (c in coords){\n",
    "    if (c[[1]] == 'latitude'){\n",
    "        lats = c[[2]]}\n",
    "    if (c[[1]] == 'longitude'){\n",
    "        longs = c[[2]]}}\n",
    "\n",
    "# Retrieve coordinates of the occurrence\n",
    "occurrences <- read.csv(file = paste(enrichment$biodiv_path, dataset_ref,  '.csv', sep = ''), row.names = 1)\n",
    "occ_point <- wkt2geojson(occurrences[as.character(occ_id),]$geometry)$geometry$coordinates"
   ]
  },
  {
   "cell_type": "code",
   "execution_count": 15,
   "id": "11450f72",
   "metadata": {},
   "outputs": [
    {
     "data": {
      "image/png": "[encoded data removed]",
      "text/plain": [
       "plot without title"
      ]
     },
     "metadata": {
      "image/png": {
       "height": 420,
       "width": 420
      }
     },
     "output_type": "display_data"
    }
   ],
   "source": [
    "colnames(data) <- longs\n",
    "rownames(data) <- lats\n",
    "data_df <- melt(data)\n",
    "colnames(data_df) <- c('latitude', 'longitude', var_id)\n",
    "title <- paste(var_id, ' (', unit, ')', sep = '')\n",
    "ggplot(data = data_df, aes(x=longitude, y=latitude, fill=eval(as.name(var_id)))) + \n",
    "       geom_tile()+\n",
    "       scale_fill_gradientn(title,colours=coolwarm(100), guide = \"colourbar\")+\n",
    "       geom_point(aes(x=occ_point[[1]], y=occ_point[[2]]), shape=4, size = 4)"
   ]
  }
 ],
 "metadata": {
  "kernelspec": {
   "display_name": "R",
   "language": "R",
   "name": "ir"
  },
  "language_info": {
   "codemirror_mode": "r",
   "file_extension": ".r",
   "mimetype": "text/x-r-source",
   "name": "R",
   "pygments_lexer": "r",
   "version": "4.2.0"
  },
  "varInspector": {
   "cols": {
    "lenName": 16,
    "lenType": 16,
    "lenVar": 40
   },
   "kernels_config": {
    "python": {
     "delete_cmd_postfix": "",
     "delete_cmd_prefix": "del ",
     "library": "var_list.py",
     "varRefreshCmd": "print(var_dic_list())"
    },
    "r": {
     "delete_cmd_postfix": ") ",
     "delete_cmd_prefix": "rm(",
     "library": "var_list.r",
     "varRefreshCmd": "cat(var_dic_list()) "
    }
   },
   "types_to_exclude": [
    "module",
    "function",
    "builtin_function_or_method",
    "instance",
    "_Feature"
   ],
   "window_display": false
  }
 },
 "nbformat": 4,
 "nbformat_minor": 5
}
