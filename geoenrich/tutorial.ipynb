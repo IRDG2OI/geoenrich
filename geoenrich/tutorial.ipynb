{
 "cells": [
  {
   "cell_type": "markdown",
   "id": "55f4ede0",
   "metadata": {},
   "source": [
    "**Summary**\n",
    "\n",
    "In this tutorial we will enrich Beluga whale observations with bathymetry information.\n",
    "\n",
    "We will first download GBIF occurrences for beluga whales. If you do not want to create a GBIF account, you can use your own dataset instead (DarwinCore or csv), or the packaged DarwinCore archive containing records of Acropora Digitifera.\n",
    "\n",
    "An enrichment file will be created where data will be added, as we download environmental variables for this dataset.\n",
    "\n",
    "Afterwards, we will pick a variable id from the [catalog file](geoenrich/data/catalog.csv). If the variable you want is not available, feel free to update the *catalog.csv* file with new rows (see [installation instructions](https://geoenrich.readthedocs.io/en/latest/install.html)).\n"
   ]
  },
  {
   "cell_type": "markdown",
   "id": "a6799207",
   "metadata": {
    "heading_collapsed": true
   },
   "source": [
    "# Download from GBIF"
   ]
  },
  {
   "cell_type": "code",
   "execution_count": 1,
   "id": "6cf9d89d",
   "metadata": {
    "hidden": true
   },
   "outputs": [],
   "source": [
    "from geoenrich.dataloader import *"
   ]
  },
  {
   "cell_type": "markdown",
   "id": "ea1bed8f",
   "metadata": {
    "hidden": true
   },
   "source": [
    "#### Get GBIF id for the taxon of interest"
   ]
  },
  {
   "cell_type": "code",
   "execution_count": 2,
   "id": "f3485d56",
   "metadata": {
    "hidden": true
   },
   "outputs": [
    {
     "name": "stdout",
     "output_type": "stream",
     "text": [
      "Selected taxon: SPECIES: Delphinapterus leucas (Pallas, 1776)\n"
     ]
    }
   ],
   "source": [
    "taxKey = get_taxon_key('Delphinapterus leucas')"
   ]
  },
  {
   "cell_type": "markdown",
   "id": "84eae32f",
   "metadata": {
    "hidden": true
   },
   "source": [
    "#### Request an archive with all occurrences of this taxon"
   ]
  },
  {
   "cell_type": "code",
   "execution_count": null,
   "id": "6d2dce10",
   "metadata": {
    "hidden": true
   },
   "outputs": [],
   "source": [
    "request_id = request_from_gbif(taxKey)"
   ]
  },
  {
   "cell_type": "markdown",
   "id": "eb4b3002",
   "metadata": {
    "hidden": true
   },
   "source": [
    "#### Download request"
   ]
  },
  {
   "cell_type": "markdown",
   "id": "12c73f21",
   "metadata": {
    "hidden": true
   },
   "source": [
    "For large requests, some waiting time is needed for the archive to be ready."
   ]
  },
  {
   "cell_type": "code",
   "execution_count": 4,
   "id": "bc75f482",
   "metadata": {
    "hidden": true
   },
   "outputs": [
    {
     "name": "stderr",
     "output_type": "stream",
     "text": [
      "INFO:On disk at /media/Data/Data/biodiv/gbif/0201232-210914110416597.zip\n"
     ]
    }
   ],
   "source": [
    "download_requested(request_key = request_id)"
   ]
  },
  {
   "cell_type": "markdown",
   "id": "66dad4fc",
   "metadata": {
    "heading_collapsed": true
   },
   "source": [
    "# Load occurrence data and create enrichment file"
   ]
  },
  {
   "cell_type": "code",
   "execution_count": 5,
   "id": "aa6e0ae5",
   "metadata": {
    "hidden": true
   },
   "outputs": [],
   "source": [
    "import os\n",
    "from geoenrich.dataloader import *\n",
    "from geoenrich.enrichment import create_enrichment_file"
   ]
  },
  {
   "cell_type": "markdown",
   "id": "c95decd5",
   "metadata": {
    "hidden": true
   },
   "source": [
    "#### If data was downloaded from gbif"
   ]
  },
  {
   "cell_type": "code",
   "execution_count": 3,
   "id": "b130a5ef",
   "metadata": {
    "hidden": true
   },
   "outputs": [
    {
     "name": "stdout",
     "output_type": "stream",
     "text": [
      "6632 occurrences were loaded.\n"
     ]
    }
   ],
   "source": [
    "geodf = open_dwca(taxonKey = taxKey)"
   ]
  },
  {
   "cell_type": "markdown",
   "id": "0cf0693d",
   "metadata": {
    "hidden": true
   },
   "source": [
    "#### If you are using your own dataset (DarwinCore format)"
   ]
  },
  {
   "cell_type": "markdown",
   "id": "2c12b863",
   "metadata": {
    "hidden": true
   },
   "source": [
    "NB: A DarwinCore archive is bundled into the package for user testing (GBIF Occurrence Download [10.15468/dl.megb8n](https://doi.org/10.15468/dl.megb8n)).\n",
    "\n",
    "If you don't have a dataset and you don't want to register to GBIF yet you can use this one."
   ]
  },
  {
   "cell_type": "code",
   "execution_count": null,
   "id": "3cfca901",
   "metadata": {
    "hidden": true
   },
   "outputs": [],
   "source": [
    "example_path = os.path.split(geoenrich.__file__)[0] + '/data/AcDigitifera.zip'\n",
    "geodf = open_dwca(path = example_path)"
   ]
  },
  {
   "cell_type": "markdown",
   "id": "0aeccd14",
   "metadata": {
    "hidden": true
   },
   "source": [
    "#### If you are using your own dataset (csv format)"
   ]
  },
  {
   "cell_type": "markdown",
   "id": "329a83fe",
   "metadata": {
    "hidden": true
   },
   "source": [
    "Fill in the path to your csv and the compulsory column names.\n",
    "\n",
    "Additional arguments are passed down to pandas.read_csv"
   ]
  },
  {
   "cell_type": "code",
   "execution_count": null,
   "id": "446fe39f",
   "metadata": {
    "hidden": true
   },
   "outputs": [],
   "source": [
    "geodf = import_csv(path = '', id_col = '', date_col = '', lat_col = '',\n",
    "                           lon_col = '', depth_col = '')"
   ]
  },
  {
   "cell_type": "markdown",
   "id": "36af314b",
   "metadata": {
    "hidden": true
   },
   "source": [
    "#### If you do not have occurrences but want to enrich arbitrary areas"
   ]
  },
  {
   "cell_type": "markdown",
   "id": "37939e7d",
   "metadata": {
    "hidden": true
   },
   "source": [
    "See documentation for information about input file format."
   ]
  },
  {
   "cell_type": "code",
   "execution_count": null,
   "id": "c78ab8b4",
   "metadata": {
    "hidden": true
   },
   "outputs": [],
   "source": [
    "example_path = os.path.split(geoenrich.__file__)[0]  + '/data/areas.csv'\n",
    "df = load_areas_file(example_path)"
   ]
  },
  {
   "cell_type": "markdown",
   "id": "0884211e",
   "metadata": {
    "hidden": true
   },
   "source": [
    "#### Create enrichment file"
   ]
  },
  {
   "cell_type": "code",
   "execution_count": 7,
   "id": "d7a11343",
   "metadata": {
    "hidden": true
   },
   "outputs": [
    {
     "name": "stdout",
     "output_type": "stream",
     "text": [
      "File saved at /media/Data/Data/biodiv/occurrences.csv\n"
     ]
    }
   ],
   "source": [
    "# For occurrences\n",
    "dataset_ref_occ = 'occurrences'\n",
    "create_enrichment_file(geodf, dataset_ref_occ)"
   ]
  },
  {
   "cell_type": "code",
   "execution_count": null,
   "id": "98ef6675",
   "metadata": {
    "hidden": true
   },
   "outputs": [],
   "source": [
    "# For areas\n",
    "dataset_ref_areas = 'areas'\n",
    "create_enrichment_file(df, dataset_ref_areas)"
   ]
  },
  {
   "cell_type": "markdown",
   "id": "61126397",
   "metadata": {},
   "source": [
    "# Enrich"
   ]
  },
  {
   "cell_type": "code",
   "execution_count": 1,
   "id": "7a16abea",
   "metadata": {},
   "outputs": [],
   "source": [
    "from geoenrich.enrichment import enrich"
   ]
  },
  {
   "cell_type": "markdown",
   "id": "5acc8eb1",
   "metadata": {},
   "source": [
    "#### Define enrichment scope"
   ]
  },
  {
   "cell_type": "code",
   "execution_count": 6,
   "id": "f12a5790",
   "metadata": {},
   "outputs": [],
   "source": [
    "var_id = 'bathymetry'\n",
    "geo_buff = 115       # kilometers\n",
    "time_buff = (-7, 0)  # Download data from 7 days before occurrence date to occurrence date\n",
    "                     # (for datasets where time is a dimension)"
   ]
  },
  {
   "cell_type": "markdown",
   "id": "9af6979c",
   "metadata": {},
   "source": [
    "Only enrich a small slice first to check speed."
   ]
  },
  {
   "cell_type": "code",
   "execution_count": 7,
   "id": "958a3757",
   "metadata": {
    "scrolled": true
   },
   "outputs": [
    {
     "name": "stdout",
     "output_type": "stream",
     "text": [
      "6632 occurrences were loaded from enrichment file\n",
      "Ignoring 22 rows because data is not available at these dates\n"
     ]
    },
    {
     "name": "stderr",
     "output_type": "stream",
     "text": [
      "100%|██████████████████████████████████████████████████████████████████████████████████████████████████████████████████████████████████| 78/78 [00:52<00:00,  1.48it/s]\n"
     ]
    },
    {
     "name": "stdout",
     "output_type": "stream",
     "text": [
      "Enrichment over\n"
     ]
    }
   ],
   "source": [
    "dataset_ref_occ = 'occurrences'\n",
    "enrich(dataset_ref_occ, var_id, geo_buff, time_buff, slice = (0, 100))"
   ]
  },
  {
   "cell_type": "markdown",
   "id": "0acc914a",
   "metadata": {},
   "source": [
    "For large areas, use downsample argument to download only part of available data (to reduce download time)"
   ]
  },
  {
   "cell_type": "code",
   "execution_count": null,
   "id": "fe769385",
   "metadata": {},
   "outputs": [],
   "source": [
    "# Skip 9 latitude and longitude points for each downloaded point.\n",
    "dataset_ref_areas = 'areas'\n",
    "downsample = {'latitude': 9, 'longitude': 9}\n",
    "enrich(dataset_ref_areas, var_id, downsample = downsample)"
   ]
  },
  {
   "cell_type": "markdown",
   "id": "80fda94d",
   "metadata": {},
   "source": [
    "# Data retrieval"
   ]
  },
  {
   "cell_type": "code",
   "execution_count": 4,
   "id": "cc4564b6",
   "metadata": {},
   "outputs": [],
   "source": [
    "from geoenrich.enrichment import read_ids, enrichment_status\n",
    "from geoenrich.exports import retrieve_data\n",
    "dataset_ref = 'occurrences'"
   ]
  },
  {
   "cell_type": "markdown",
   "id": "7bbade60",
   "metadata": {},
   "source": [
    "#### Check the enrichment status of the dataset."
   ]
  },
  {
   "cell_type": "code",
   "execution_count": 5,
   "id": "35bf8efb",
   "metadata": {},
   "outputs": [
    {
     "name": "stdout",
     "output_type": "stream",
     "text": [
      "6632 occurrences were loaded from enrichment file\n"
     ]
    },
    {
     "data": {
      "text/html": [
       "<div>\n",
       "<style scoped>\n",
       "    .dataframe tbody tr th:only-of-type {\n",
       "        vertical-align: middle;\n",
       "    }\n",
       "\n",
       "    .dataframe tbody tr th {\n",
       "        vertical-align: top;\n",
       "    }\n",
       "\n",
       "    .dataframe thead th {\n",
       "        text-align: right;\n",
       "    }\n",
       "</style>\n",
       "<table border=\"1\" class=\"dataframe\">\n",
       "  <thead>\n",
       "    <tr style=\"text-align: right;\">\n",
       "      <th></th>\n",
       "      <th>0</th>\n",
       "    </tr>\n",
       "  </thead>\n",
       "  <tbody>\n",
       "    <tr>\n",
       "      <th>depth_request</th>\n",
       "      <td>surface</td>\n",
       "    </tr>\n",
       "    <tr>\n",
       "      <th>downsample</th>\n",
       "      <td>{}</td>\n",
       "    </tr>\n",
       "    <tr>\n",
       "      <th>geo_buff</th>\n",
       "      <td>115</td>\n",
       "    </tr>\n",
       "    <tr>\n",
       "      <th>time_buff</th>\n",
       "      <td>[-7, 0]</td>\n",
       "    </tr>\n",
       "    <tr>\n",
       "      <th>var_id</th>\n",
       "      <td>bathymetry</td>\n",
       "    </tr>\n",
       "    <tr>\n",
       "      <th>Enriched</th>\n",
       "      <td>100</td>\n",
       "    </tr>\n",
       "    <tr>\n",
       "      <th>Not enriched</th>\n",
       "      <td>6532</td>\n",
       "    </tr>\n",
       "    <tr>\n",
       "      <th>Data not available</th>\n",
       "      <td>0</td>\n",
       "    </tr>\n",
       "  </tbody>\n",
       "</table>\n",
       "</div>"
      ],
      "text/plain": [
       "                             0\n",
       "depth_request          surface\n",
       "downsample                  {}\n",
       "geo_buff                   115\n",
       "time_buff              [-7, 0]\n",
       "var_id              bathymetry\n",
       "Enriched                   100\n",
       "Not enriched              6532\n",
       "Data not available           0"
      ]
     },
     "execution_count": 5,
     "metadata": {},
     "output_type": "execute_result"
    }
   ],
   "source": [
    "enrichment_status(dataset_ref)"
   ]
  },
  {
   "cell_type": "markdown",
   "id": "7d2b330c",
   "metadata": {},
   "source": [
    "\n",
    "#### Request data from local storage for the first row of our dataset."
   ]
  },
  {
   "cell_type": "code",
   "execution_count": null,
   "id": "b9baf9c2",
   "metadata": {},
   "outputs": [],
   "source": [
    "ids = read_ids(dataset_ref)\n",
    "occ_id = ids[0]\n",
    "output = retrieve_data(dataset_ref, occ_id, shape = 'buffer', geo_buff = 115)"
   ]
  },
  {
   "cell_type": "markdown",
   "id": "4f732fab",
   "metadata": {},
   "source": [
    "#### Unpack and plot data"
   ]
  },
  {
   "cell_type": "code",
   "execution_count": null,
   "id": "c9589ce7",
   "metadata": {},
   "outputs": [],
   "source": [
    "var_id = 'bathymetry'\n",
    "\n",
    "data = output[var_id]['values']\n",
    "unit = output[var_id]['unit']\n",
    "coords = output[var_id]['coords']"
   ]
  },
  {
   "cell_type": "code",
   "execution_count": null,
   "id": "1264852a",
   "metadata": {},
   "outputs": [],
   "source": [
    "from shapely import wkt\n",
    "from matplotlib import pyplot as plt\n",
    "%matplotlib notebook\n",
    "\n",
    "# Get latitude and longitude values for the requested data\n",
    "lat_dim = [c[0] for c in coords].index('latitude')\n",
    "lon_dim = [c[0] for c in coords].index('longitude')\n",
    "lats = coords[lat_dim][1]\n",
    "longs = coords[lon_dim][1]\n",
    "\n",
    "# Get coordinates for the occurrence point\n",
    "filepath = biodiv_path + dataset_ref + '.csv'\n",
    "df = pd.read_csv(filepath, parse_dates = ['eventDate'], infer_datetime_format = True, index_col = 0)\n",
    "point = wkt.loads(df.loc[occ_id, 'geometry'])\n",
    "\n",
    "# Plot\n",
    "extent = [longs[0] , longs[-1], lats[0] , lats[-1]]\n",
    "plt.imshow(data, extent = extent, origin = 'lower')\n",
    "plt.title(var_id + ' (' + unit + ')')\n",
    "plt.colorbar()\n",
    "plt.scatter([point.x], [point.y], c='black', marker='x')\n",
    "\n",
    "# NB: If your data has time or depth dimensions, you will have to pick a slice of the data array to be able to plot it"
   ]
  }
 ],
 "metadata": {
  "kernelspec": {
   "display_name": "release",
   "language": "python",
   "name": "release"
  },
  "language_info": {
   "codemirror_mode": {
    "name": "ipython",
    "version": 3
   },
   "file_extension": ".py",
   "mimetype": "text/x-python",
   "name": "python",
   "nbconvert_exporter": "python",
   "pygments_lexer": "ipython3",
   "version": "3.8.10"
  },
  "varInspector": {
   "cols": {
    "lenName": 16,
    "lenType": 16,
    "lenVar": 40
   },
   "kernels_config": {
    "python": {
     "delete_cmd_postfix": "",
     "delete_cmd_prefix": "del ",
     "library": "var_list.py",
     "varRefreshCmd": "print(var_dic_list())"
    },
    "r": {
     "delete_cmd_postfix": ") ",
     "delete_cmd_prefix": "rm(",
     "library": "var_list.r",
     "varRefreshCmd": "cat(var_dic_list()) "
    }
   },
   "position": {
    "height": "791.85px",
    "left": "1898px",
    "right": "20px",
    "top": "119px",
    "width": "645px"
   },
   "types_to_exclude": [
    "module",
    "function",
    "builtin_function_or_method",
    "instance",
    "_Feature"
   ],
   "window_display": false
  }
 },
 "nbformat": 4,
 "nbformat_minor": 5
}
