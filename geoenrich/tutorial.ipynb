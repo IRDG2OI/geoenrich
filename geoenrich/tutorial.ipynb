{
 "cells": [
  {
   "cell_type": "markdown",
   "id": "55f4ede0",
   "metadata": {},
   "source": [
    "**Summary**\n",
    "\n",
    "In this tutorial we will enrich Beluga whale observations with bathymetry information.\n",
    "\n",
    "You will first prepare the dataset to be enriched.\n",
    "It can be your own DarwinCore archive, or you can download one from GBIF.\n",
    "An enrichment file will be created where data will be added later on.\n",
    "\n",
    "Afterwards, you can pick a variable id from the [catalog file](geoenrich/catalog.csv). If the variable you want is not available, feel free to update the *catalog.csv* file with new rows (see [installation instructions](https://geoenrich.readthedocs.io/en/latest/install.html)).\n"
   ]
  },
  {
   "cell_type": "markdown",
   "id": "a6799207",
   "metadata": {
    "heading_collapsed": true
   },
   "source": [
    "# Download from GBIF"
   ]
  },
  {
   "cell_type": "code",
   "execution_count": null,
   "id": "6cf9d89d",
   "metadata": {
    "hidden": true
   },
   "outputs": [],
   "source": [
    "from geoenrich.biodiv import *"
   ]
  },
  {
   "cell_type": "markdown",
   "id": "ea1bed8f",
   "metadata": {
    "hidden": true
   },
   "source": [
    "#### Get GBIF id for the taxon of interest"
   ]
  },
  {
   "cell_type": "code",
   "execution_count": null,
   "id": "f3485d56",
   "metadata": {
    "hidden": true
   },
   "outputs": [],
   "source": [
    "taxKey = get_taxon_key('Delphinapterus leucas')"
   ]
  },
  {
   "cell_type": "markdown",
   "id": "84eae32f",
   "metadata": {
    "hidden": true
   },
   "source": [
    "#### Request an archive with all occurrences of this taxon"
   ]
  },
  {
   "cell_type": "code",
   "execution_count": null,
   "id": "6d2dce10",
   "metadata": {
    "hidden": true
   },
   "outputs": [],
   "source": [
    "request_id = request_from_gbif(taxKey)"
   ]
  },
  {
   "cell_type": "markdown",
   "id": "eb4b3002",
   "metadata": {
    "hidden": true
   },
   "source": [
    "#### Download request"
   ]
  },
  {
   "cell_type": "markdown",
   "id": "12c73f21",
   "metadata": {
    "hidden": true
   },
   "source": [
    "For large requests, some waiting time is needed for the archive to be ready."
   ]
  },
  {
   "cell_type": "code",
   "execution_count": null,
   "id": "bc75f482",
   "metadata": {
    "hidden": true
   },
   "outputs": [],
   "source": [
    "download_requested(request_key = request_id)"
   ]
  },
  {
   "cell_type": "markdown",
   "id": "66dad4fc",
   "metadata": {},
   "source": [
    "# Load occurrence data and create enrichment file"
   ]
  },
  {
   "cell_type": "code",
   "execution_count": null,
   "id": "aa6e0ae5",
   "metadata": {},
   "outputs": [],
   "source": [
    "import os\n",
    "import geoenrich\n",
    "from geoenrich.biodiv import *\n",
    "from geoenrich.enrichment import create_enrichment_file"
   ]
  },
  {
   "cell_type": "markdown",
   "id": "c95decd5",
   "metadata": {},
   "source": [
    "#### If data was downloaded from gbif"
   ]
  },
  {
   "cell_type": "code",
   "execution_count": null,
   "id": "b130a5ef",
   "metadata": {},
   "outputs": [],
   "source": [
    "geodf = open_dwca(taxonKey = taxKey)"
   ]
  },
  {
   "cell_type": "markdown",
   "id": "0cf0693d",
   "metadata": {},
   "source": [
    "#### If you are using your own dataset (DarwinCore format)"
   ]
  },
  {
   "cell_type": "code",
   "execution_count": null,
   "id": "3cfca901",
   "metadata": {},
   "outputs": [],
   "source": [
    "# NB: A DarwinCore archive is bundled into the package for user testing.\n",
    "# If you don't have a dataset and you don't want to register to GBIF yet you can use this one.\n",
    "\n",
    "example_path = os.path.split(geoenrich.__file__)[0] + '/data/AcDigitifera.zip'\n",
    "geodf = open_dwca(path = example_path)"
   ]
  },
  {
   "cell_type": "markdown",
   "id": "0aeccd14",
   "metadata": {},
   "source": [
    "#### If you are using your own dataset (csv format)"
   ]
  },
  {
   "cell_type": "code",
   "execution_count": null,
   "id": "446fe39f",
   "metadata": {},
   "outputs": [],
   "source": [
    "geodf = import_csv()"
   ]
  },
  {
   "cell_type": "markdown",
   "id": "0884211e",
   "metadata": {},
   "source": [
    "#### Create enrichment file"
   ]
  },
  {
   "cell_type": "code",
   "execution_count": null,
   "id": "d7a11343",
   "metadata": {},
   "outputs": [],
   "source": [
    "dataset_ref = 'your_dataset_name'\n",
    "create_enrichment_file(geodf, 'your_dataset_name')"
   ]
  },
  {
   "cell_type": "markdown",
   "id": "61126397",
   "metadata": {},
   "source": [
    "# Enrich"
   ]
  },
  {
   "cell_type": "code",
   "execution_count": null,
   "id": "7a16abea",
   "metadata": {},
   "outputs": [],
   "source": [
    "from geoenrich.enrichment import enrich"
   ]
  },
  {
   "cell_type": "markdown",
   "id": "5acc8eb1",
   "metadata": {},
   "source": [
    "#### Define enrichment scope"
   ]
  },
  {
   "cell_type": "code",
   "execution_count": null,
   "id": "f12a5790",
   "metadata": {},
   "outputs": [],
   "source": [
    "var_id = 'bathymetry'\n",
    "dataset_ref = 'your_dataset_name'\n",
    "\n",
    "geo_buff = 115       # kilometers\n",
    "time_buff = (-7, 0)  # Download data from 7 days before occurrence date to occurrence date\n",
    "                     # (for datasets where time is a dimension)"
   ]
  },
  {
   "cell_type": "markdown",
   "id": "f08c040b",
   "metadata": {},
   "source": [
    "#### Enrich"
   ]
  },
  {
   "cell_type": "markdown",
   "id": "9af6979c",
   "metadata": {},
   "source": [
    "Only enrich a small slice first to check speed."
   ]
  },
  {
   "cell_type": "code",
   "execution_count": null,
   "id": "958a3757",
   "metadata": {
    "scrolled": true
   },
   "outputs": [],
   "source": [
    "enrich(dataset_ref, var_id, geo_buff, time_buff, slice = (0, 100))"
   ]
  },
  {
   "cell_type": "markdown",
   "id": "80fda94d",
   "metadata": {},
   "source": [
    "# Data retrieval"
   ]
  },
  {
   "cell_type": "code",
   "execution_count": null,
   "id": "cc4564b6",
   "metadata": {},
   "outputs": [],
   "source": [
    "from geoenrich.enrichment import enrichment_status, read_ids, retrieve_data\n",
    "\n",
    "dataset_ref = 'your_dataset_name'"
   ]
  },
  {
   "cell_type": "markdown",
   "id": "7bbade60",
   "metadata": {},
   "source": [
    "#### Check the enrichment status of the dataset."
   ]
  },
  {
   "cell_type": "code",
   "execution_count": null,
   "id": "35bf8efb",
   "metadata": {},
   "outputs": [],
   "source": [
    "enrichment_status(dataset_ref)"
   ]
  },
  {
   "cell_type": "markdown",
   "id": "7d2b330c",
   "metadata": {},
   "source": [
    "\n",
    "#### Request data from local storage for the first row of our dataset."
   ]
  },
  {
   "cell_type": "code",
   "execution_count": null,
   "id": "b9baf9c2",
   "metadata": {},
   "outputs": [],
   "source": [
    "ids = read_ids(dataset_ref)\n",
    "output = retrieve_data(dataset_ref, ids[0], shape = 'rectangle')"
   ]
  },
  {
   "cell_type": "markdown",
   "id": "4f732fab",
   "metadata": {},
   "source": [
    "#### Unpack and plot data"
   ]
  },
  {
   "cell_type": "code",
   "execution_count": null,
   "id": "c9589ce7",
   "metadata": {},
   "outputs": [],
   "source": [
    "var_id = 'bathymetry'\n",
    "\n",
    "data = output[var_id]['values']\n",
    "unit = output[var_id]['unit']\n",
    "coords = output[var_id]['coords']"
   ]
  },
  {
   "cell_type": "code",
   "execution_count": null,
   "id": "1264852a",
   "metadata": {},
   "outputs": [],
   "source": [
    "from matplotlib import pyplot as plt\n",
    "%matplotlib notebook\n",
    "\n",
    "# Get latitude and longitude values for the requested data\n",
    "lat_dim = [c[0] for c in coords].index('latitude')\n",
    "lon_dim = [c[0] for c in coords].index('longitude')\n",
    "lats = coords[lat_dim][1]\n",
    "longs = coords[lon_dim][1]\n",
    "\n",
    "# Plot\n",
    "extent = [longs[0] , longs[-1], lats[0] , lats[-1]]\n",
    "plt.imshow(data, extent = extent, origin = 'lower')\n",
    "plt.title(var_id + ' (' + unit + ')')\n",
    "plt.colorbar()\n",
    "\n",
    "# NB: If your data has time or depth dimensions, you will have to pick a slice of the data array to be able to plot it"
   ]
  }
 ],
 "metadata": {
  "kernelspec": {
   "display_name": "tests",
   "language": "python",
   "name": "tests"
  },
  "language_info": {
   "codemirror_mode": {
    "name": "ipython",
    "version": 3
   },
   "file_extension": ".py",
   "mimetype": "text/x-python",
   "name": "python",
   "nbconvert_exporter": "python",
   "pygments_lexer": "ipython3",
   "version": "3.8.10"
  },
  "varInspector": {
   "cols": {
    "lenName": 16,
    "lenType": 16,
    "lenVar": 40
   },
   "kernels_config": {
    "python": {
     "delete_cmd_postfix": "",
     "delete_cmd_prefix": "del ",
     "library": "var_list.py",
     "varRefreshCmd": "print(var_dic_list())"
    },
    "r": {
     "delete_cmd_postfix": ") ",
     "delete_cmd_prefix": "rm(",
     "library": "var_list.r",
     "varRefreshCmd": "cat(var_dic_list()) "
    }
   },
   "position": {
    "height": "791.85px",
    "left": "1898px",
    "right": "20px",
    "top": "119px",
    "width": "645px"
   },
   "types_to_exclude": [
    "module",
    "function",
    "builtin_function_or_method",
    "instance",
    "_Feature"
   ],
   "window_display": false
  }
 },
 "nbformat": 4,
 "nbformat_minor": 5
}
