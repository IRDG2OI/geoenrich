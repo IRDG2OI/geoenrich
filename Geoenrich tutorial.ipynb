{
 "cells": [
  {
   "cell_type": "markdown",
   "id": "55f4ede0",
   "metadata": {},
   "source": [
    "**Summary**\n",
    "\n",
    "You will first prepare the dataset to be enriched.\n",
    "It can be your own DarwinCore archive, or you can download one from GBIF.\n",
    "An enrichment file will be created where data will be added later on.\n",
    "\n",
    "Afterwards, you will pick a variable id from the *catalog.csv* file. If the variable you want is not available, feel free to update the *catalog.csv* file with new rows.\n"
   ]
  },
  {
   "cell_type": "markdown",
   "id": "a6799207",
   "metadata": {
    "heading_collapsed": true
   },
   "source": [
    "# Download from gbif"
   ]
  },
  {
   "cell_type": "code",
   "execution_count": null,
   "id": "6cf9d89d",
   "metadata": {
    "hidden": true
   },
   "outputs": [],
   "source": [
    "from geoenrich.biodiv import *"
   ]
  },
  {
   "cell_type": "markdown",
   "id": "ea1bed8f",
   "metadata": {
    "hidden": true
   },
   "source": [
    "Get GBIF id for the taxon of interest"
   ]
  },
  {
   "cell_type": "code",
   "execution_count": 2,
   "id": "f3485d56",
   "metadata": {
    "hidden": true
   },
   "outputs": [
    {
     "name": "stdout",
     "output_type": "stream",
     "text": [
      "Selected taxon: SPECIES: Physeter macrocephalus Linnaeus, 1758\n"
     ]
    }
   ],
   "source": [
    "taxkey = get_taxon_key('Physeter macrocephalus')"
   ]
  },
  {
   "cell_type": "markdown",
   "id": "84eae32f",
   "metadata": {
    "hidden": true
   },
   "source": [
    "Request an archive with all occurrences of this taxon"
   ]
  },
  {
   "cell_type": "code",
   "execution_count": 4,
   "id": "6d2dce10",
   "metadata": {
    "hidden": true
   },
   "outputs": [
    {
     "name": "stdout",
     "output_type": "stream",
     "text": [
      "Request already made on 2022-03-18T07:38:46.054+00:00\n",
      "Run again with override = True to force new request.\n",
      "Request already made on 2022-03-17T11:08:58.123+00:00\n",
      "Run again with override = True to force new request.\n"
     ]
    }
   ],
   "source": [
    "request_id = request_from_gbif(taxkey)"
   ]
  },
  {
   "cell_type": "markdown",
   "id": "eb4b3002",
   "metadata": {
    "hidden": true
   },
   "source": [
    "Download request (for large requests, some waiting time is needed for the archive to be ready)"
   ]
  },
  {
   "cell_type": "code",
   "execution_count": 5,
   "id": "bc75f482",
   "metadata": {
    "hidden": true
   },
   "outputs": [
    {
     "name": "stdout",
     "output_type": "stream",
     "text": [
      "Request already made on 2022-03-18T07:38:46.054+00:00\n",
      "Run again with override = True to force new request.\n",
      "Request already made on 2022-03-17T11:08:58.123+00:00\n",
      "Run again with override = True to force new request.\n"
     ]
    },
    {
     "name": "stderr",
     "output_type": "stream",
     "text": [
      "INFO:Download file size: 14259372 bytes\n",
      "INFO:On disk at /media/Data/Data/biodiv/gbif/0186865-210914110416597.zip\n"
     ]
    }
   ],
   "source": [
    "download_requested(request_key = request_id, path = biodiv_path + 'gbif')"
   ]
  },
  {
   "cell_type": "markdown",
   "id": "dde4eddb",
   "metadata": {
    "hidden": true
   },
   "source": [
    "Prepare enrichment file from the GBIF data.\n",
    "\n",
    "Any DarwinCore archive may be used instead."
   ]
  },
  {
   "cell_type": "code",
   "execution_count": 6,
   "id": "c186fcec",
   "metadata": {
    "hidden": true,
    "scrolled": true
   },
   "outputs": [
    {
     "name": "stdout",
     "output_type": "stream",
     "text": [
      "Dropped 205 rows related to non-living occurrences\n",
      "Dropped 1083 rows with missing event date\n",
      "Selected 10000 random occurrences from the dataset\n",
      "10000 occurrences were loaded.\n",
      "File saved at /media/Data/Data/biodiv/gbif_8123917.csv\n"
     ]
    }
   ],
   "source": [
    "geodf = open_dwca(biodiv_path + 'gbif/' + str(taxkey) + '.zip')\n",
    "save_file_for_enrichment(geodf, filename = 'gbif_' + str(taxkey))"
   ]
  },
  {
   "cell_type": "markdown",
   "id": "61126397",
   "metadata": {},
   "source": [
    "# Enrich"
   ]
  },
  {
   "cell_type": "code",
   "execution_count": null,
   "id": "7a16abea",
   "metadata": {},
   "outputs": [],
   "source": [
    "from geoenrich.enrichment import enrich"
   ]
  },
  {
   "cell_type": "markdown",
   "id": "5acc8eb1",
   "metadata": {},
   "source": [
    "Define enrichment scope"
   ]
  },
  {
   "cell_type": "code",
   "execution_count": 2,
   "id": "f12a5790",
   "metadata": {},
   "outputs": [
    {
     "name": "stdout",
     "output_type": "stream",
     "text": [
      "Selected taxon: SPECIES: Istiompax indica (Cuvier, 1832)\n"
     ]
    }
   ],
   "source": [
    "taxkey = get_taxon_key('Istiompax indica')\n",
    "var_id = 'sst'\n",
    "dataset_ref = 'gbif_' + str(taxkey)"
   ]
  },
  {
   "cell_type": "markdown",
   "id": "f08c040b",
   "metadata": {},
   "source": [
    "Enrich.\n",
    "\n",
    "Only enrich a small slice first to check speed."
   ]
  },
  {
   "cell_type": "code",
   "execution_count": 64,
   "id": "958a3757",
   "metadata": {
    "scrolled": true
   },
   "outputs": [
    {
     "name": "stdout",
     "output_type": "stream",
     "text": [
      "710 occurrences were loaded from enrichment file\n"
     ]
    },
    {
     "name": "stderr",
     "output_type": "stream",
     "text": [
      "100%|█████████████████████████████████████████| 710/710 [06:36<00:00,  1.79it/s]\n"
     ]
    },
    {
     "name": "stdout",
     "output_type": "stream",
     "text": [
      "Enrichment over\n"
     ]
    }
   ],
   "source": [
    "enrich(dataset_ref, var_id, slice = (0, 100))"
   ]
  },
  {
   "cell_type": "markdown",
   "id": "80fda94d",
   "metadata": {},
   "source": [
    "# Data retrieval"
   ]
  },
  {
   "cell_type": "code",
   "execution_count": null,
   "id": "cc4564b6",
   "metadata": {},
   "outputs": [],
   "source": [
    "from geoenrich.enrichment import enrichment_status, read_ids, retrieve_data "
   ]
  },
  {
   "cell_type": "markdown",
   "id": "7bbade60",
   "metadata": {},
   "source": [
    "Check the enrichment status of the dataset."
   ]
  },
  {
   "cell_type": "code",
   "execution_count": null,
   "id": "35bf8efb",
   "metadata": {},
   "outputs": [],
   "source": [
    "enrichment_status(dataset_ref)"
   ]
  },
  {
   "cell_type": "markdown",
   "id": "7d2b330c",
   "metadata": {},
   "source": [
    "Request data from local storage for the first row of our dataset."
   ]
  },
  {
   "cell_type": "code",
   "execution_count": null,
   "id": "b9baf9c2",
   "metadata": {},
   "outputs": [],
   "source": [
    "ids = read_ids(dataset_ref)\n",
    "output = retrieve_data(dataset_ref, ids[0])"
   ]
  }
 ],
 "metadata": {
  "kernelspec": {
   "display_name": "Python 3 (ipykernel)",
   "language": "python",
   "name": "python3"
  },
  "language_info": {
   "codemirror_mode": {
    "name": "ipython",
    "version": 3
   },
   "file_extension": ".py",
   "mimetype": "text/x-python",
   "name": "python",
   "nbconvert_exporter": "python",
   "pygments_lexer": "ipython3",
   "version": "3.8.10"
  },
  "varInspector": {
   "cols": {
    "lenName": 16,
    "lenType": 16,
    "lenVar": 40
   },
   "kernels_config": {
    "python": {
     "delete_cmd_postfix": "",
     "delete_cmd_prefix": "del ",
     "library": "var_list.py",
     "varRefreshCmd": "print(var_dic_list())"
    },
    "r": {
     "delete_cmd_postfix": ") ",
     "delete_cmd_prefix": "rm(",
     "library": "var_list.r",
     "varRefreshCmd": "cat(var_dic_list()) "
    }
   },
   "position": {
    "height": "791.85px",
    "left": "1898px",
    "right": "20px",
    "top": "119px",
    "width": "645px"
   },
   "types_to_exclude": [
    "module",
    "function",
    "builtin_function_or_method",
    "instance",
    "_Feature"
   ],
   "window_display": false
  }
 },
 "nbformat": 4,
 "nbformat_minor": 5
}
